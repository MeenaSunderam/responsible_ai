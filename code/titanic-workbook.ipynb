{
 "cells": [
  {
   "cell_type": "markdown",
   "id": "32e7ba4a-aa3d-468b-99cb-61d38cf7ed8a",
   "metadata": {},
   "source": [
    "## Model Developement - Use Case :  Titanic"
   ]
  },
  {
   "cell_type": "markdown",
   "id": "1785a538-16c3-4b11-9107-d5bef1eb2bc4",
   "metadata": {},
   "source": [
    "### Import RAI libary"
   ]
  },
  {
   "cell_type": "code",
   "execution_count": 2,
   "id": "1a5d6939-cfac-4caa-988c-22648667e0e6",
   "metadata": {},
   "outputs": [],
   "source": [
    "from responsibleML import responsible_model as rai_model\n",
    "from responsibleML import rai_models\n",
    "from responsibleML import ProblemType\n",
    "from responsibleML import ModelFramework"
   ]
  },
  {
   "cell_type": "code",
   "execution_count": 3,
   "id": "c1cc4090-d8d9-4f37-a765-1462b160878b",
   "metadata": {},
   "outputs": [],
   "source": [
    "#Create a Model List\n",
    "models = rai_models()"
   ]
  },
  {
   "cell_type": "markdown",
   "id": "6a2b2aea-d43a-47c8-8be0-4f39a5f4b47a",
   "metadata": {},
   "source": [
    "### Data Pre Processing"
   ]
  },
  {
   "cell_type": "code",
   "execution_count": 4,
   "id": "fb63ea70-7cf2-44b6-b8d4-11ccd12bb26d",
   "metadata": {},
   "outputs": [],
   "source": [
    "import numpy as np # linear algebra\n",
    "import pandas as pd # data processing, CSV file I/O (e.g. pd.read_csv)\n",
    "import matplotlib.pyplot as plt"
   ]
  },
  {
   "cell_type": "code",
   "execution_count": 5,
   "id": "f42f3819-eb0e-4a37-a2bd-2d83265a8caa",
   "metadata": {},
   "outputs": [
    {
     "data": {
      "text/html": [
       "<div>\n",
       "<style scoped>\n",
       "    .dataframe tbody tr th:only-of-type {\n",
       "        vertical-align: middle;\n",
       "    }\n",
       "\n",
       "    .dataframe tbody tr th {\n",
       "        vertical-align: top;\n",
       "    }\n",
       "\n",
       "    .dataframe thead th {\n",
       "        text-align: right;\n",
       "    }\n",
       "</style>\n",
       "<table border=\"1\" class=\"dataframe\">\n",
       "  <thead>\n",
       "    <tr style=\"text-align: right;\">\n",
       "      <th></th>\n",
       "      <th>target</th>\n",
       "      <th>PassengerId</th>\n",
       "      <th>Pclass</th>\n",
       "      <th>Name</th>\n",
       "      <th>Sex</th>\n",
       "      <th>Age</th>\n",
       "      <th>SibSp</th>\n",
       "      <th>Parch</th>\n",
       "      <th>Fare</th>\n",
       "      <th>Embarked</th>\n",
       "    </tr>\n",
       "  </thead>\n",
       "  <tbody>\n",
       "    <tr>\n",
       "      <th>0</th>\n",
       "      <td>0</td>\n",
       "      <td>1</td>\n",
       "      <td>3</td>\n",
       "      <td>Braund, Mr. Owen Harris</td>\n",
       "      <td>male</td>\n",
       "      <td>22.0</td>\n",
       "      <td>1</td>\n",
       "      <td>0</td>\n",
       "      <td>7.2500</td>\n",
       "      <td>S</td>\n",
       "    </tr>\n",
       "    <tr>\n",
       "      <th>1</th>\n",
       "      <td>1</td>\n",
       "      <td>2</td>\n",
       "      <td>1</td>\n",
       "      <td>Cumings, Mrs. John Bradley (Florence Briggs Th...</td>\n",
       "      <td>female</td>\n",
       "      <td>38.0</td>\n",
       "      <td>1</td>\n",
       "      <td>0</td>\n",
       "      <td>71.2833</td>\n",
       "      <td>C</td>\n",
       "    </tr>\n",
       "    <tr>\n",
       "      <th>2</th>\n",
       "      <td>1</td>\n",
       "      <td>3</td>\n",
       "      <td>3</td>\n",
       "      <td>Heikkinen, Miss. Laina</td>\n",
       "      <td>female</td>\n",
       "      <td>26.0</td>\n",
       "      <td>0</td>\n",
       "      <td>0</td>\n",
       "      <td>7.9250</td>\n",
       "      <td>S</td>\n",
       "    </tr>\n",
       "  </tbody>\n",
       "</table>\n",
       "</div>"
      ],
      "text/plain": [
       "   target  PassengerId  Pclass  \\\n",
       "0       0            1       3   \n",
       "1       1            2       1   \n",
       "2       1            3       3   \n",
       "\n",
       "                                                Name     Sex   Age  SibSp  \\\n",
       "0                            Braund, Mr. Owen Harris    male  22.0      1   \n",
       "1  Cumings, Mrs. John Bradley (Florence Briggs Th...  female  38.0      1   \n",
       "2                             Heikkinen, Miss. Laina  female  26.0      0   \n",
       "\n",
       "   Parch     Fare Embarked  \n",
       "0      0   7.2500        S  \n",
       "1      0  71.2833        C  \n",
       "2      0   7.9250        S  "
      ]
     },
     "execution_count": 5,
     "metadata": {},
     "output_type": "execute_result"
    }
   ],
   "source": [
    "titanic_df = pd.read_csv('../data/titanic.csv')\n",
    "titanic_df.head(3)"
   ]
  },
  {
   "cell_type": "code",
   "execution_count": 6,
   "id": "e20e2283-5629-4232-a699-f3b3d831d921",
   "metadata": {},
   "outputs": [],
   "source": [
    "# Remove all na value from test set \n",
    "titanic_df['Age'].fillna(titanic_df['Age'].mean(), inplace = True)\n",
    "titanic_df['Embarked'].fillna('N', inplace = True)"
   ]
  },
  {
   "cell_type": "code",
   "execution_count": 7,
   "id": "19d11931-cd1b-446f-b828-2b109055d6c2",
   "metadata": {},
   "outputs": [
    {
     "data": {
      "text/html": [
       "<div>\n",
       "<style scoped>\n",
       "    .dataframe tbody tr th:only-of-type {\n",
       "        vertical-align: middle;\n",
       "    }\n",
       "\n",
       "    .dataframe tbody tr th {\n",
       "        vertical-align: top;\n",
       "    }\n",
       "\n",
       "    .dataframe thead th {\n",
       "        text-align: right;\n",
       "    }\n",
       "</style>\n",
       "<table border=\"1\" class=\"dataframe\">\n",
       "  <thead>\n",
       "    <tr style=\"text-align: right;\">\n",
       "      <th></th>\n",
       "      <th>target</th>\n",
       "      <th>PassengerId</th>\n",
       "      <th>Pclass</th>\n",
       "      <th>Name</th>\n",
       "      <th>Sex</th>\n",
       "      <th>Age</th>\n",
       "      <th>SibSp</th>\n",
       "      <th>Parch</th>\n",
       "      <th>Fare</th>\n",
       "      <th>Embarked</th>\n",
       "    </tr>\n",
       "  </thead>\n",
       "  <tbody>\n",
       "    <tr>\n",
       "      <th>0</th>\n",
       "      <td>0</td>\n",
       "      <td>1</td>\n",
       "      <td>3</td>\n",
       "      <td>Braund, Mr. Owen Harris</td>\n",
       "      <td>1</td>\n",
       "      <td>22.0</td>\n",
       "      <td>1</td>\n",
       "      <td>0</td>\n",
       "      <td>7.2500</td>\n",
       "      <td>3</td>\n",
       "    </tr>\n",
       "    <tr>\n",
       "      <th>1</th>\n",
       "      <td>1</td>\n",
       "      <td>2</td>\n",
       "      <td>1</td>\n",
       "      <td>Cumings, Mrs. John Bradley (Florence Briggs Th...</td>\n",
       "      <td>0</td>\n",
       "      <td>38.0</td>\n",
       "      <td>1</td>\n",
       "      <td>0</td>\n",
       "      <td>71.2833</td>\n",
       "      <td>0</td>\n",
       "    </tr>\n",
       "    <tr>\n",
       "      <th>2</th>\n",
       "      <td>1</td>\n",
       "      <td>3</td>\n",
       "      <td>3</td>\n",
       "      <td>Heikkinen, Miss. Laina</td>\n",
       "      <td>0</td>\n",
       "      <td>26.0</td>\n",
       "      <td>0</td>\n",
       "      <td>0</td>\n",
       "      <td>7.9250</td>\n",
       "      <td>3</td>\n",
       "    </tr>\n",
       "    <tr>\n",
       "      <th>3</th>\n",
       "      <td>1</td>\n",
       "      <td>4</td>\n",
       "      <td>1</td>\n",
       "      <td>Futrelle, Mrs. Jacques Heath (Lily May Peel)</td>\n",
       "      <td>0</td>\n",
       "      <td>35.0</td>\n",
       "      <td>1</td>\n",
       "      <td>0</td>\n",
       "      <td>53.1000</td>\n",
       "      <td>3</td>\n",
       "    </tr>\n",
       "    <tr>\n",
       "      <th>4</th>\n",
       "      <td>0</td>\n",
       "      <td>5</td>\n",
       "      <td>3</td>\n",
       "      <td>Allen, Mr. William Henry</td>\n",
       "      <td>1</td>\n",
       "      <td>35.0</td>\n",
       "      <td>0</td>\n",
       "      <td>0</td>\n",
       "      <td>8.0500</td>\n",
       "      <td>3</td>\n",
       "    </tr>\n",
       "  </tbody>\n",
       "</table>\n",
       "</div>"
      ],
      "text/plain": [
       "   target  PassengerId  Pclass  \\\n",
       "0       0            1       3   \n",
       "1       1            2       1   \n",
       "2       1            3       3   \n",
       "3       1            4       1   \n",
       "4       0            5       3   \n",
       "\n",
       "                                                Name  Sex   Age  SibSp  Parch  \\\n",
       "0                            Braund, Mr. Owen Harris    1  22.0      1      0   \n",
       "1  Cumings, Mrs. John Bradley (Florence Briggs Th...    0  38.0      1      0   \n",
       "2                             Heikkinen, Miss. Laina    0  26.0      0      0   \n",
       "3       Futrelle, Mrs. Jacques Heath (Lily May Peel)    0  35.0      1      0   \n",
       "4                           Allen, Mr. William Henry    1  35.0      0      0   \n",
       "\n",
       "      Fare  Embarked  \n",
       "0   7.2500         3  \n",
       "1  71.2833         0  \n",
       "2   7.9250         3  \n",
       "3  53.1000         3  \n",
       "4   8.0500         3  "
      ]
     },
     "execution_count": 7,
     "metadata": {},
     "output_type": "execute_result"
    }
   ],
   "source": [
    "from sklearn import preprocessing\n",
    "\n",
    "def encode_features(dataDF) :\n",
    "    features = ['Sex','Embarked']\n",
    "    \n",
    "    for feature in features :\n",
    "        le = preprocessing.LabelEncoder()\n",
    "        le = le.fit(dataDF[feature])\n",
    "        dataDF[feature] = le.transform(dataDF[feature])\n",
    "        \n",
    "    return dataDF\n",
    "\n",
    "titanic_df = encode_features(titanic_df)\n",
    "titanic_df.head()"
   ]
  },
  {
   "cell_type": "code",
   "execution_count": 8,
   "id": "af585345-b607-447b-9a1d-0db5d06d45a5",
   "metadata": {},
   "outputs": [],
   "source": [
    "# Drop the unnecessary field (PassengerId, Name, Ticket)\n",
    "titanic_df.drop(['PassengerId', 'Name'], axis = 1, inplace = True)"
   ]
  },
  {
   "cell_type": "code",
   "execution_count": 9,
   "id": "40a0442f-7767-4eed-ab8b-a371adc6ca6f",
   "metadata": {},
   "outputs": [],
   "source": [
    "y_titanic_df = titanic_df['target']\n",
    "X_titanic_df = titanic_df.drop('target', axis = 1)"
   ]
  },
  {
   "cell_type": "markdown",
   "id": "b3f7827c-addc-4d2a-8954-3a53b4410362",
   "metadata": {},
   "source": [
    "### Model 1:  Decision Tree"
   ]
  },
  {
   "cell_type": "markdown",
   "id": "61e2489a-0f20-4125-8a75-94d459d5fe57",
   "metadata": {},
   "source": [
    "#### 1.1 Decision Tree - RAI Model"
   ]
  },
  {
   "cell_type": "code",
   "execution_count": 10,
   "id": "aa248eab-6a72-453e-a928-b075cb156870",
   "metadata": {},
   "outputs": [],
   "source": [
    "# Create a responsible model\n",
    "dt_model = rai_model(\"decision_tree\", ProblemType.BINARY, ModelFramework.SKLEARN)"
   ]
  },
  {
   "cell_type": "markdown",
   "id": "44fe4f06-6c9e-4158-a11c-f4a770fd5427",
   "metadata": {},
   "source": [
    "#### 1.2 Decision RAI Model:  Calculate Class Imbalance"
   ]
  },
  {
   "cell_type": "code",
   "execution_count": 11,
   "id": "1a3758f5-cca0-45eb-b629-770b092d7c25",
   "metadata": {},
   "outputs": [],
   "source": [
    "# Calcualate Class Imbalance\n",
    "dt_model.calculate_class_balance(y_titanic_df)"
   ]
  },
  {
   "cell_type": "markdown",
   "id": "5f12c2e0-6973-470a-a6d6-7338d38e646c",
   "metadata": {},
   "source": [
    "#### 1.3 Decision RAI Model:  Start Emissions Tracker"
   ]
  },
  {
   "cell_type": "code",
   "execution_count": 12,
   "id": "f4a4293e-2687-4d88-8e8a-6c73f386179f",
   "metadata": {},
   "outputs": [
    {
     "name": "stderr",
     "output_type": "stream",
     "text": [
      "[codecarbon INFO @ 12:09:49] [setup] RAM Tracking...\n",
      "[codecarbon INFO @ 12:09:49] [setup] GPU Tracking...\n",
      "[codecarbon INFO @ 12:09:49] No GPU found.\n",
      "[codecarbon INFO @ 12:09:49] [setup] CPU Tracking...\n",
      "[codecarbon WARNING @ 12:09:49] No CPU tracking mode found. Falling back on CPU constant mode.\n",
      "[codecarbon WARNING @ 12:09:51] We saw that you have a Intel(R) Xeon(R) Platinum 8175M CPU @ 2.50GHz but we don't know it. Please contact us.\n",
      "[codecarbon INFO @ 12:09:51] CPU Model on constant consumption mode: Intel(R) Xeon(R) Platinum 8175M CPU @ 2.50GHz\n",
      "[codecarbon INFO @ 12:09:51] >>> Tracker's metadata:\n",
      "[codecarbon INFO @ 12:09:51]   Platform system: Linux-4.14.287-215.504.amzn2.x86_64-x86_64-with-glibc2.31\n",
      "[codecarbon INFO @ 12:09:51]   Python version: 3.9.12\n",
      "[codecarbon INFO @ 12:09:51]   Available RAM : 15.482 GB\n",
      "[codecarbon INFO @ 12:09:51]   CPU count: 4\n",
      "[codecarbon INFO @ 12:09:51]   CPU model: Intel(R) Xeon(R) Platinum 8175M CPU @ 2.50GHz\n",
      "[codecarbon INFO @ 12:09:51]   GPU count: None\n",
      "[codecarbon INFO @ 12:09:51]   GPU model: None\n"
     ]
    }
   ],
   "source": [
    "dt_model.start_emissions_tracker()"
   ]
  },
  {
   "cell_type": "code",
   "execution_count": 13,
   "id": "b75d6553-90ea-47ee-a70a-cd5441429bbf",
   "metadata": {},
   "outputs": [
    {
     "name": "stdout",
     "output_type": "stream",
     "text": [
      "== DecisionTree Accuracy : 0.7821\n"
     ]
    }
   ],
   "source": [
    "from sklearn.tree import DecisionTreeClassifier\n",
    "from sklearn.metrics import accuracy_score\n",
    "from sklearn.model_selection import train_test_split\n",
    "\n",
    "\n",
    "X_train, X_test, y_train, y_test = train_test_split(X_titanic_df, y_titanic_df, test_size=0.2, random_state = 11)\n",
    "\n",
    "dt_clf = DecisionTreeClassifier(random_state = 11)\n",
    "\n",
    "dt_clf.fit(X_train, y_train)\n",
    "dt_pred = dt_clf.predict(X_test)\n",
    "print(\"== DecisionTree Accuracy : {0:.4f}\".format(accuracy_score(y_test, dt_pred)))"
   ]
  },
  {
   "cell_type": "markdown",
   "id": "911c25f3-a392-4885-baec-92537d8a4467",
   "metadata": {},
   "source": [
    "#### 1.4 Decision RAI Model:  Stop Emissions Tracker"
   ]
  },
  {
   "cell_type": "code",
   "execution_count": 14,
   "id": "34ea1ba6-e188-4013-a7d2-889cd3801eb9",
   "metadata": {},
   "outputs": [
    {
     "name": "stderr",
     "output_type": "stream",
     "text": [
      "[codecarbon INFO @ 12:09:51] Energy consumed for RAM : 0.000000 kWh. RAM Power : 5.805689334869385 W\n",
      "[codecarbon INFO @ 12:09:51] Energy consumed for all CPUs : 0.000000 kWh. All CPUs Power : 42.5 W\n",
      "[codecarbon INFO @ 12:09:51] 0.000001 kWh of electricity used since the begining.\n"
     ]
    }
   ],
   "source": [
    "# Stop the CO2 tracker\n",
    "dt_model.stop_emissions_tracker()"
   ]
  },
  {
   "cell_type": "markdown",
   "id": "fc73b817-ad62-451e-8c5a-2eaddedd2c0a",
   "metadata": {},
   "source": [
    "#### 1.5 Decision RAI Model:  Calculate Interpretability"
   ]
  },
  {
   "cell_type": "code",
   "execution_count": 15,
   "id": "3d7a3410-417b-4ac2-8c75-85276f9c6f20",
   "metadata": {},
   "outputs": [],
   "source": [
    "# calculate Interpretability\n",
    "dt_model.calculate_interpretability(\"treebased\", dt_clf, X_titanic_df)"
   ]
  },
  {
   "cell_type": "markdown",
   "id": "754c7e79-d535-4799-b943-18f817900587",
   "metadata": {},
   "source": [
    "#### 1.6 Decision RAI Model:  Add model to RAI Models"
   ]
  },
  {
   "cell_type": "code",
   "execution_count": 16,
   "id": "d9f34316-2741-4b75-9dd4-c73038ff98b5",
   "metadata": {},
   "outputs": [],
   "source": [
    "models.add_model(dt_model)"
   ]
  },
  {
   "cell_type": "code",
   "execution_count": 17,
   "id": "0a7a17e2-b4b2-4b24-8a5b-df632eaed767",
   "metadata": {},
   "outputs": [
    {
     "name": "stdout",
     "output_type": "stream",
     "text": [
      "Class Balance Index : 3\n",
      "Emissions Index : 3\n",
      "Interpreability Index : 3\n"
     ]
    }
   ],
   "source": [
    "print(\"Class Balance Index : \" + str(dt_model.get_class_balance_index()))\n",
    "print(\"Emissions Index : \" + str(dt_model.get_emissions_index()))\n",
    "print(\"Interpreability Index : \" + str(dt_model.get_interpretability_index()))"
   ]
  },
  {
   "cell_type": "code",
   "execution_count": 18,
   "id": "7c9beb3a-c659-4e1d-a61e-9fb12882d451",
   "metadata": {},
   "outputs": [
    {
     "data": {
      "text/plain": [
       "'{\"model name\": \"decision_tree\", \"framework\": \"sklearn\", \"ml problem\": \"binary_classification\", \"data type\": \"tabular\", \"model_accuracy\": 0.0, \"emissions\": 3.6061114318880144e-07, \"class_balance\": 0.7676767676767676, \"interpretability\": 0.7372368829034679, \"class balance Index\": 3, \"interpretability index\": 3, \"emission index\": 3, \"model_rai_index\": 3.0}'"
      ]
     },
     "execution_count": 18,
     "metadata": {},
     "output_type": "execute_result"
    }
   ],
   "source": [
    "dt_model.get_model_info()"
   ]
  },
  {
   "cell_type": "markdown",
   "id": "440a3561-e572-4290-8436-5eaf718cc215",
   "metadata": {},
   "source": [
    "### Model 2:  Random Forest"
   ]
  },
  {
   "cell_type": "markdown",
   "id": "7a402fb9-6bb4-432a-9fcf-3e448f7372b7",
   "metadata": {},
   "source": [
    "#### 2.1 Random Forest - RAI Model"
   ]
  },
  {
   "cell_type": "code",
   "execution_count": 19,
   "id": "7228e29a-5006-4bf9-9fb1-fda4008ea031",
   "metadata": {},
   "outputs": [],
   "source": [
    "rf_model = rai_model(\"random_forest\", ProblemType.BINARY, ModelFramework.SKLEARN)"
   ]
  },
  {
   "cell_type": "markdown",
   "id": "ea2310e0-891f-4d90-8cc8-afa951d154dc",
   "metadata": {},
   "source": [
    "#### 2.2 Random Forest RAI Model:  Calculate Class Imbalance"
   ]
  },
  {
   "cell_type": "code",
   "execution_count": 20,
   "id": "e96db9d7-8411-4a2d-8047-d22155db9539",
   "metadata": {},
   "outputs": [],
   "source": [
    "rf_model.calculate_class_balance(y_titanic_df)"
   ]
  },
  {
   "cell_type": "markdown",
   "id": "1bc2f233-2aea-47fb-9e0a-a022f65aaecf",
   "metadata": {},
   "source": [
    "#### 2.3 Random Forest RAI Model:  Start Emissions Tracker"
   ]
  },
  {
   "cell_type": "code",
   "execution_count": 21,
   "id": "fd969891-48ff-4d13-8703-d65e0f89a130",
   "metadata": {},
   "outputs": [
    {
     "name": "stderr",
     "output_type": "stream",
     "text": [
      "[codecarbon INFO @ 12:09:51] [setup] RAM Tracking...\n",
      "[codecarbon INFO @ 12:09:51] [setup] GPU Tracking...\n",
      "[codecarbon INFO @ 12:09:51] No GPU found.\n",
      "[codecarbon INFO @ 12:09:51] [setup] CPU Tracking...\n",
      "[codecarbon WARNING @ 12:09:51] No CPU tracking mode found. Falling back on CPU constant mode.\n",
      "[codecarbon WARNING @ 12:09:53] We saw that you have a Intel(R) Xeon(R) Platinum 8175M CPU @ 2.50GHz but we don't know it. Please contact us.\n",
      "[codecarbon INFO @ 12:09:53] CPU Model on constant consumption mode: Intel(R) Xeon(R) Platinum 8175M CPU @ 2.50GHz\n",
      "[codecarbon INFO @ 12:09:53] >>> Tracker's metadata:\n",
      "[codecarbon INFO @ 12:09:53]   Platform system: Linux-4.14.287-215.504.amzn2.x86_64-x86_64-with-glibc2.31\n",
      "[codecarbon INFO @ 12:09:53]   Python version: 3.9.12\n",
      "[codecarbon INFO @ 12:09:53]   Available RAM : 15.482 GB\n",
      "[codecarbon INFO @ 12:09:53]   CPU count: 4\n",
      "[codecarbon INFO @ 12:09:53]   CPU model: Intel(R) Xeon(R) Platinum 8175M CPU @ 2.50GHz\n",
      "[codecarbon INFO @ 12:09:53]   GPU count: None\n",
      "[codecarbon INFO @ 12:09:53]   GPU model: None\n"
     ]
    }
   ],
   "source": [
    "rf_model.start_emissions_tracker()"
   ]
  },
  {
   "cell_type": "code",
   "execution_count": 22,
   "id": "377a332d-1890-4c35-9bf4-a7ee1153fa92",
   "metadata": {},
   "outputs": [
    {
     "name": "stdout",
     "output_type": "stream",
     "text": [
      "== RandomForest Accuracy : 0.8492\n"
     ]
    }
   ],
   "source": [
    "#2. RandomForest \n",
    "from sklearn.ensemble import RandomForestClassifier\n",
    "from sklearn.model_selection import train_test_split\n",
    "\n",
    "X_train, X_test, y_train, y_test = train_test_split(X_titanic_df, y_titanic_df, test_size=0.2, random_state = 11)\n",
    "\n",
    "rf_clf = RandomForestClassifier(random_state = 11)\n",
    "rf_clf.fit(X_train, y_train)\n",
    "rf_pred = rf_clf.predict(X_test)\n",
    "print(\"== RandomForest Accuracy : {0:.4f}\".format(accuracy_score(y_test, rf_pred)))"
   ]
  },
  {
   "cell_type": "markdown",
   "id": "c4ebd087-6c49-49df-a82d-9b98437f4807",
   "metadata": {},
   "source": [
    "#### 2.4 Random Forest RAI Model:  Stop Emissions Tracker"
   ]
  },
  {
   "cell_type": "code",
   "execution_count": 23,
   "id": "2a365baa-fd91-4eda-ab68-2c5f7eb878fa",
   "metadata": {},
   "outputs": [
    {
     "name": "stderr",
     "output_type": "stream",
     "text": [
      "[codecarbon INFO @ 12:09:54] Energy consumed for RAM : 0.000001 kWh. RAM Power : 5.805689334869385 W\n",
      "[codecarbon INFO @ 12:09:54] Energy consumed for all CPUs : 0.000004 kWh. All CPUs Power : 42.5 W\n",
      "[codecarbon INFO @ 12:09:54] 0.000004 kWh of electricity used since the begining.\n"
     ]
    }
   ],
   "source": [
    "rf_model.stop_emissions_tracker()"
   ]
  },
  {
   "cell_type": "markdown",
   "id": "1f0d7d92-37d2-4199-a1e5-d6ceb7797dc3",
   "metadata": {},
   "source": [
    "#### 2.5 Random Forest RAI Model:  Calculate Interpretability"
   ]
  },
  {
   "cell_type": "code",
   "execution_count": 24,
   "id": "6423a2dc-b0e1-43f0-b9a5-d923d5154140",
   "metadata": {},
   "outputs": [],
   "source": [
    "# calculate Interpretability\n",
    "rf_model.calculate_interpretability(\"treebased\", rf_clf, X_titanic_df)"
   ]
  },
  {
   "cell_type": "markdown",
   "id": "0e5c6156-dfa9-44f0-b053-37044f8ccbe6",
   "metadata": {},
   "source": [
    "#### 1.6 Random Forest RAI Model:  Add model to RAI Models"
   ]
  },
  {
   "cell_type": "code",
   "execution_count": 25,
   "id": "c83dabf5-5e08-478f-bb46-ea3398b0110d",
   "metadata": {},
   "outputs": [],
   "source": [
    "models.add_model(rf_model)"
   ]
  },
  {
   "cell_type": "code",
   "execution_count": 26,
   "id": "c82c50ed-2f77-46d9-a3bc-700a913c4a6d",
   "metadata": {},
   "outputs": [
    {
     "name": "stdout",
     "output_type": "stream",
     "text": [
      "Class Balance Index : 3\n",
      "Emissions Index : 3\n",
      "Interpreability Index : 3\n"
     ]
    }
   ],
   "source": [
    "print(\"Class Balance Index : \" + str(rf_model.get_class_balance_index()))\n",
    "print(\"Emissions Index : \" + str(rf_model.get_emissions_index()))\n",
    "print(\"Interpreability Index : \" + str(rf_model.get_interpretability_index()))"
   ]
  },
  {
   "cell_type": "code",
   "execution_count": 27,
   "id": "fe606779-173b-46b6-b2f7-1a0ba7a132d2",
   "metadata": {},
   "outputs": [
    {
     "data": {
      "text/plain": [
       "'{\"model name\": \"random_forest\", \"framework\": \"sklearn\", \"ml problem\": \"binary_classification\", \"data type\": \"tabular\", \"model_accuracy\": 0.0, \"emissions\": 2.8159332996555414e-06, \"class_balance\": 0.7676767676767676, \"interpretability\": 0.7214554847234195, \"class balance Index\": 3, \"interpretability index\": 3, \"emission index\": 3, \"model_rai_index\": 3.0}'"
      ]
     },
     "execution_count": 27,
     "metadata": {},
     "output_type": "execute_result"
    }
   ],
   "source": [
    "rf_model.get_model_info()"
   ]
  },
  {
   "cell_type": "markdown",
   "id": "51b82e86-4f78-4ae4-96a3-8b31df6ea838",
   "metadata": {},
   "source": [
    "### Model 3:  Logistic Regression"
   ]
  },
  {
   "cell_type": "markdown",
   "id": "99db8c35-e02a-4ae1-ba97-6753796fb04b",
   "metadata": {},
   "source": [
    "#### 3.1 Logistic Regression - RAI Model"
   ]
  },
  {
   "cell_type": "code",
   "execution_count": 28,
   "id": "e6cbbb0a-6d4c-48e4-8ae0-1e75ec82cfd5",
   "metadata": {},
   "outputs": [],
   "source": [
    "lr_model = rai_model(\"logistic_regression\", ProblemType.BINARY, ModelFramework.SKLEARN)"
   ]
  },
  {
   "cell_type": "markdown",
   "id": "2e20e6e8-0fe1-47e8-a643-fe7531107be0",
   "metadata": {},
   "source": [
    "#### 3.2 Logistic Regression RAI Model:  Calculate Class Imbalance"
   ]
  },
  {
   "cell_type": "code",
   "execution_count": 29,
   "id": "1bc21822-ede7-4535-ba7f-2afe5d19eb88",
   "metadata": {},
   "outputs": [],
   "source": [
    "lr_model.calculate_class_balance(y_titanic_df)"
   ]
  },
  {
   "cell_type": "markdown",
   "id": "9b08bf56-432c-462e-95bc-fd8ea3b6b36d",
   "metadata": {},
   "source": [
    "#### 3.3 Logistic Regression RAI Model:  Start Emissions tracker"
   ]
  },
  {
   "cell_type": "code",
   "execution_count": 30,
   "id": "e0ae9e75-a141-4fab-acb4-b53bcb70844b",
   "metadata": {},
   "outputs": [
    {
     "name": "stderr",
     "output_type": "stream",
     "text": [
      "[codecarbon INFO @ 12:09:57] [setup] RAM Tracking...\n",
      "[codecarbon INFO @ 12:09:57] [setup] GPU Tracking...\n",
      "[codecarbon INFO @ 12:09:57] No GPU found.\n",
      "[codecarbon INFO @ 12:09:57] [setup] CPU Tracking...\n",
      "[codecarbon WARNING @ 12:09:57] No CPU tracking mode found. Falling back on CPU constant mode.\n",
      "[codecarbon WARNING @ 12:09:59] We saw that you have a Intel(R) Xeon(R) Platinum 8175M CPU @ 2.50GHz but we don't know it. Please contact us.\n",
      "[codecarbon INFO @ 12:09:59] CPU Model on constant consumption mode: Intel(R) Xeon(R) Platinum 8175M CPU @ 2.50GHz\n",
      "[codecarbon INFO @ 12:09:59] >>> Tracker's metadata:\n",
      "[codecarbon INFO @ 12:09:59]   Platform system: Linux-4.14.287-215.504.amzn2.x86_64-x86_64-with-glibc2.31\n",
      "[codecarbon INFO @ 12:09:59]   Python version: 3.9.12\n",
      "[codecarbon INFO @ 12:09:59]   Available RAM : 15.482 GB\n",
      "[codecarbon INFO @ 12:09:59]   CPU count: 4\n",
      "[codecarbon INFO @ 12:09:59]   CPU model: Intel(R) Xeon(R) Platinum 8175M CPU @ 2.50GHz\n",
      "[codecarbon INFO @ 12:09:59]   GPU count: None\n",
      "[codecarbon INFO @ 12:09:59]   GPU model: None\n"
     ]
    }
   ],
   "source": [
    "lr_model.start_emissions_tracker()"
   ]
  },
  {
   "cell_type": "code",
   "execution_count": 31,
   "id": "400617b4-bc38-4546-8377-65428c07163b",
   "metadata": {},
   "outputs": [
    {
     "name": "stdout",
     "output_type": "stream",
     "text": [
      "== LogisticRegression Accuracy : 0.8547\n"
     ]
    },
    {
     "name": "stderr",
     "output_type": "stream",
     "text": [
      "lbfgs failed to converge (status=1):\n",
      "STOP: TOTAL NO. of ITERATIONS REACHED LIMIT.\n",
      "\n",
      "Increase the number of iterations (max_iter) or scale the data as shown in:\n",
      "    https://scikit-learn.org/stable/modules/preprocessing.html\n",
      "Please also refer to the documentation for alternative solver options:\n",
      "    https://scikit-learn.org/stable/modules/linear_model.html#logistic-regression\n"
     ]
    }
   ],
   "source": [
    "#3. LogisticRegression\n",
    "from sklearn.linear_model import LogisticRegression\n",
    "from sklearn.model_selection import train_test_split\n",
    "from sklearn.feature_extraction.text import TfidfVectorizer\n",
    "\n",
    "X_train, X_test, y_train, y_test = train_test_split(X_titanic_df, y_titanic_df, test_size=0.2, random_state = 11)\n",
    "\n",
    "lr_clf = LogisticRegression()\n",
    "\n",
    "lr_clf.fit(X_train, y_train)\n",
    "lr_pred = lr_clf.predict(X_test)\n",
    "print(\"== LogisticRegression Accuracy : {0:.4f}\".format(accuracy_score(y_test, lr_pred)))"
   ]
  },
  {
   "cell_type": "markdown",
   "id": "986b73a7-6d35-422c-a330-0adb86ab358b",
   "metadata": {},
   "source": [
    "#### 3.4 Logistic Regression RAI Model:  Stop Emissions tracker"
   ]
  },
  {
   "cell_type": "code",
   "execution_count": 32,
   "id": "f164ea39-0f6e-4912-806b-10403e9e8125",
   "metadata": {},
   "outputs": [
    {
     "name": "stderr",
     "output_type": "stream",
     "text": [
      "[codecarbon INFO @ 12:09:59] Energy consumed for RAM : 0.000000 kWh. RAM Power : 5.805689334869385 W\n",
      "[codecarbon INFO @ 12:09:59] Energy consumed for all CPUs : 0.000001 kWh. All CPUs Power : 42.5 W\n",
      "[codecarbon INFO @ 12:09:59] 0.000001 kWh of electricity used since the begining.\n"
     ]
    }
   ],
   "source": [
    "lr_model.stop_emissions_tracker()"
   ]
  },
  {
   "cell_type": "markdown",
   "id": "15ce7e4e-281c-467a-aebd-3f00278ad746",
   "metadata": {},
   "source": [
    "#### 3.5 Logistic Regression RAI Model:  Calculate Interpretability"
   ]
  },
  {
   "cell_type": "code",
   "execution_count": 33,
   "id": "81aac56d-2304-44a6-a559-5c094d1f7fdf",
   "metadata": {},
   "outputs": [
    {
     "name": "stderr",
     "output_type": "stream",
     "text": [
      "The option feature_dependence has been renamed to feature_perturbation!\n",
      "The feature_perturbation option is now deprecated in favor of using the appropriate masker (maskers.Independent, or maskers.Impute)\n"
     ]
    }
   ],
   "source": [
    "# calculate Interpretability\n",
    "lr_model.calculate_interpretability(\"linear\", lr_clf, X_titanic_df)"
   ]
  },
  {
   "cell_type": "markdown",
   "id": "d8372522-b2c8-43b9-8891-a100b74380a3",
   "metadata": {},
   "source": [
    "#### 3.6 Logistic Regression RAI Model:  Add Model to RAI model list"
   ]
  },
  {
   "cell_type": "code",
   "execution_count": 34,
   "id": "bfd13946-2711-4087-9595-254095a1507c",
   "metadata": {},
   "outputs": [],
   "source": [
    "models.add_model(lr_model)"
   ]
  },
  {
   "cell_type": "markdown",
   "id": "ee162ba5-b272-48ee-b977-95f6b9b4fcab",
   "metadata": {},
   "source": [
    "### Calculate Responsible Index"
   ]
  },
  {
   "cell_type": "markdown",
   "id": "08bf6f93-882d-484c-9e6d-33a55a12f5b0",
   "metadata": {},
   "source": [
    "#### List all models"
   ]
  },
  {
   "cell_type": "code",
   "execution_count": 35,
   "id": "f58bfbd9-3188-4b94-b832-a0e7fa7b3a57",
   "metadata": {},
   "outputs": [],
   "source": [
    "# List all Models \n",
    "model_json = models.list_models()"
   ]
  },
  {
   "cell_type": "code",
   "execution_count": 36,
   "id": "53a68c75-d663-4582-859d-f18363895af8",
   "metadata": {},
   "outputs": [],
   "source": [
    "# Rank them by RAI index\n",
    "df_models = pd.read_json(model_json)"
   ]
  },
  {
   "cell_type": "code",
   "execution_count": 37,
   "id": "00cbe981-2810-424d-99d6-9c9d40d08065",
   "metadata": {},
   "outputs": [
    {
     "data": {
      "text/html": [
       "<div>\n",
       "<style scoped>\n",
       "    .dataframe tbody tr th:only-of-type {\n",
       "        vertical-align: middle;\n",
       "    }\n",
       "\n",
       "    .dataframe tbody tr th {\n",
       "        vertical-align: top;\n",
       "    }\n",
       "\n",
       "    .dataframe thead th {\n",
       "        text-align: right;\n",
       "    }\n",
       "</style>\n",
       "<table border=\"1\" class=\"dataframe\">\n",
       "  <thead>\n",
       "    <tr style=\"text-align: right;\">\n",
       "      <th></th>\n",
       "      <th>model name</th>\n",
       "      <th>framework</th>\n",
       "      <th>ml problem</th>\n",
       "      <th>data type</th>\n",
       "      <th>model_accuracy</th>\n",
       "      <th>emissions</th>\n",
       "      <th>class_balance</th>\n",
       "      <th>interpretability</th>\n",
       "      <th>class balance Index</th>\n",
       "      <th>interpretability index</th>\n",
       "      <th>emission index</th>\n",
       "      <th>model_rai_index</th>\n",
       "    </tr>\n",
       "  </thead>\n",
       "  <tbody>\n",
       "    <tr>\n",
       "      <th>0</th>\n",
       "      <td>decision_tree</td>\n",
       "      <td>sklearn</td>\n",
       "      <td>binary_classification</td>\n",
       "      <td>tabular</td>\n",
       "      <td>0</td>\n",
       "      <td>3.606111e-07</td>\n",
       "      <td>0.767677</td>\n",
       "      <td>0.737237</td>\n",
       "      <td>3</td>\n",
       "      <td>3</td>\n",
       "      <td>3</td>\n",
       "      <td>3</td>\n",
       "    </tr>\n",
       "    <tr>\n",
       "      <th>1</th>\n",
       "      <td>random_forest</td>\n",
       "      <td>sklearn</td>\n",
       "      <td>binary_classification</td>\n",
       "      <td>tabular</td>\n",
       "      <td>0</td>\n",
       "      <td>2.815933e-06</td>\n",
       "      <td>0.767677</td>\n",
       "      <td>0.721455</td>\n",
       "      <td>3</td>\n",
       "      <td>3</td>\n",
       "      <td>3</td>\n",
       "      <td>3</td>\n",
       "    </tr>\n",
       "    <tr>\n",
       "      <th>2</th>\n",
       "      <td>logistic_regression</td>\n",
       "      <td>sklearn</td>\n",
       "      <td>binary_classification</td>\n",
       "      <td>tabular</td>\n",
       "      <td>0</td>\n",
       "      <td>4.507786e-07</td>\n",
       "      <td>0.767677</td>\n",
       "      <td>0.845180</td>\n",
       "      <td>3</td>\n",
       "      <td>3</td>\n",
       "      <td>3</td>\n",
       "      <td>3</td>\n",
       "    </tr>\n",
       "  </tbody>\n",
       "</table>\n",
       "</div>"
      ],
      "text/plain": [
       "            model name framework             ml problem data type  \\\n",
       "0        decision_tree   sklearn  binary_classification   tabular   \n",
       "1        random_forest   sklearn  binary_classification   tabular   \n",
       "2  logistic_regression   sklearn  binary_classification   tabular   \n",
       "\n",
       "   model_accuracy     emissions  class_balance  interpretability  \\\n",
       "0               0  3.606111e-07       0.767677          0.737237   \n",
       "1               0  2.815933e-06       0.767677          0.721455   \n",
       "2               0  4.507786e-07       0.767677          0.845180   \n",
       "\n",
       "   class balance Index  interpretability index  emission index  \\\n",
       "0                    3                       3               3   \n",
       "1                    3                       3               3   \n",
       "2                    3                       3               3   \n",
       "\n",
       "   model_rai_index  \n",
       "0                3  \n",
       "1                3  \n",
       "2                3  "
      ]
     },
     "execution_count": 37,
     "metadata": {},
     "output_type": "execute_result"
    }
   ],
   "source": [
    "# Visualize\n",
    "df_models.head(5)"
   ]
  },
  {
   "cell_type": "code",
   "execution_count": 38,
   "id": "0f5d6904-b785-46d3-90a5-5e0d991ab2c9",
   "metadata": {},
   "outputs": [],
   "source": [
    "from matplotlib import pyplot as plt\n"
   ]
  },
  {
   "cell_type": "code",
   "execution_count": 39,
   "id": "d741fc62-2915-4a9a-9860-2e2328ad5d03",
   "metadata": {},
   "outputs": [
    {
     "name": "stderr",
     "output_type": "stream",
     "text": [
      "Pass the following variables as keyword args: x, y. From version 0.12, the only valid positional argument will be `data`, and passing other arguments without an explicit keyword will result in an error or misinterpretation.\n"
     ]
    },
    {
     "data": {
      "text/plain": [
       "<AxesSubplot:xlabel='model name', ylabel='emissions'>"
      ]
     },
     "execution_count": 39,
     "metadata": {},
     "output_type": "execute_result"
    },
    {
     "data": {
      "image/png": "[encoded data removed]",
      "text/plain": [
       "<Figure size 432x288 with 1 Axes>"
      ]
     },
     "metadata": {
      "needs_background": "light"
     },
     "output_type": "display_data"
    }
   ],
   "source": [
    "import seaborn as sns\n",
    "\n",
    "#sns.lineplot('model name', 'interpretability', data=df_models)\n",
    "sns.scatterplot('model name', 'emissions', data=df_models)"
   ]
  },
  {
   "cell_type": "code",
   "execution_count": 40,
   "id": "15fbdfca-7914-4170-9dbe-6c642ee0bc78",
   "metadata": {},
   "outputs": [],
   "source": [
    "df_models.to_csv(\"temp.csv\")"
   ]
  },
  {
   "cell_type": "code",
   "execution_count": null,
   "id": "25aa021e-48bc-468f-ab4b-6fb09fbc9e53",
   "metadata": {},
   "outputs": [],
   "source": []
  }
 ],
 "metadata": {
  "kernelspec": {
   "display_name": "default:Python",
   "language": "python",
   "name": "conda-env-default-py"
  },
  "language_info": {
   "codemirror_mode": {
    "name": "ipython",
    "version": 3
   },
   "file_extension": ".py",
   "mimetype": "text/x-python",
   "name": "python",
   "nbconvert_exporter": "python",
   "pygments_lexer": "ipython3",
   "version": "3.9.12"
  }
 },
 "nbformat": 4,
 "nbformat_minor": 5
}
