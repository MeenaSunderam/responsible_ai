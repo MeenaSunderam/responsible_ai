{
 "cells": [
  {
   "cell_type": "code",
   "execution_count": 1,
   "id": "b71f088b-bc54-4c36-8a59-36f79c742f99",
   "metadata": {},
   "outputs": [],
   "source": [
    "from enum import Enum"
   ]
  },
  {
   "cell_type": "code",
   "execution_count": 2,
   "id": "74030330-cd55-44c5-ba7f-54ab1a057964",
   "metadata": {},
   "outputs": [],
   "source": [
    "class ProblemType(Enum):\n",
    "    \"\"\"Type of problem deduced from the label values\"\"\"\n",
    "\n",
    "    BINARY = \"binary_classification\"\n",
    "    REGRESSION = \"regression\"\n",
    "    MULTICLASS = \"multiclass_classification\"\n",
    "    FORECASTING = \"forecasting\"\n",
    "    RECOMMENDATION = \"recommendation\"\n",
    "    OTHER = \"other\""
   ]
  },
  {
   "cell_type": "code",
   "execution_count": 3,
   "id": "4800d157-6d81-4168-a657-264d5964a0d3",
   "metadata": {},
   "outputs": [],
   "source": [
    "binary = ProblemType.BINARY"
   ]
  },
  {
   "cell_type": "code",
   "execution_count": 6,
   "id": "f32cf117-387f-42e4-b997-a3789176358d",
   "metadata": {},
   "outputs": [
    {
     "data": {
      "text/plain": [
       "str"
      ]
     },
     "execution_count": 6,
     "metadata": {},
     "output_type": "execute_result"
    }
   ],
   "source": [
    "type(binary.value)"
   ]
  },
  {
   "cell_type": "code",
   "execution_count": null,
   "id": "f760bbaf-9ead-46de-81a1-1d6082620926",
   "metadata": {},
   "outputs": [],
   "source": []
  }
 ],
 "metadata": {
  "kernelspec": {
   "display_name": "default:Python",
   "language": "python",
   "name": "conda-env-default-py"
  },
  "language_info": {
   "codemirror_mode": {
    "name": "ipython",
    "version": 3
   },
   "file_extension": ".py",
   "mimetype": "text/x-python",
   "name": "python",
   "nbconvert_exporter": "python",
   "pygments_lexer": "ipython3",
   "version": "3.9.12"
  }
 },
 "nbformat": 4,
 "nbformat_minor": 5
}
