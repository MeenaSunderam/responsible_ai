{
 "cells": [
  {
   "cell_type": "code",
   "execution_count": 1,
   "id": "0056f5f0-fca6-41b2-9355-1d0faa227687",
   "metadata": {},
   "outputs": [
    {
     "name": "stdout",
     "output_type": "stream",
     "text": [
      "Requirement already satisfied: numpy in /home/studio-lab-user/.conda/envs/default/lib/python3.9/site-packages (from -r requirements.txt (line 1)) (1.22.4)\n",
      "Requirement already satisfied: pandas in /home/studio-lab-user/.conda/envs/default/lib/python3.9/site-packages (from -r requirements.txt (line 2)) (1.4.3)\n",
      "Requirement already satisfied: matplotlib in /home/studio-lab-user/.conda/envs/default/lib/python3.9/site-packages (from -r requirements.txt (line 3)) (3.5.3)\n",
      "Requirement already satisfied: shap in /home/studio-lab-user/.conda/envs/default/lib/python3.9/site-packages (from -r requirements.txt (line 4)) (0.41.0)\n",
      "Requirement already satisfied: codecarbon in /home/studio-lab-user/.conda/envs/default/lib/python3.9/site-packages (from -r requirements.txt (line 5)) (2.1.3)\n",
      "Requirement already satisfied: opacus in /home/studio-lab-user/.conda/envs/default/lib/python3.9/site-packages (from -r requirements.txt (line 6)) (1.1.3)\n",
      "Requirement already satisfied: captum in /home/studio-lab-user/.conda/envs/default/lib/python3.9/site-packages (from -r requirements.txt (line 7)) (0.5.0)\n",
      "Collecting fairlens\n",
      "  Downloading fairlens-0.1.0-py3-none-any.whl (36 kB)\n",
      "Requirement already satisfied: pytz>=2020.1 in /home/studio-lab-user/.conda/envs/default/lib/python3.9/site-packages (from pandas->-r requirements.txt (line 2)) (2022.2.1)\n",
      "Requirement already satisfied: python-dateutil>=2.8.1 in /home/studio-lab-user/.conda/envs/default/lib/python3.9/site-packages (from pandas->-r requirements.txt (line 2)) (2.8.2)\n",
      "Requirement already satisfied: cycler>=0.10 in /home/studio-lab-user/.conda/envs/default/lib/python3.9/site-packages (from matplotlib->-r requirements.txt (line 3)) (0.11.0)\n",
      "Requirement already satisfied: packaging>=20.0 in /home/studio-lab-user/.conda/envs/default/lib/python3.9/site-packages (from matplotlib->-r requirements.txt (line 3)) (21.3)\n",
      "Requirement already satisfied: pyparsing>=2.2.1 in /home/studio-lab-user/.conda/envs/default/lib/python3.9/site-packages (from matplotlib->-r requirements.txt (line 3)) (3.0.7)\n",
      "Requirement already satisfied: pillow>=6.2.0 in /home/studio-lab-user/.conda/envs/default/lib/python3.9/site-packages (from matplotlib->-r requirements.txt (line 3)) (9.2.0)\n",
      "Requirement already satisfied: kiwisolver>=1.0.1 in /home/studio-lab-user/.conda/envs/default/lib/python3.9/site-packages (from matplotlib->-r requirements.txt (line 3)) (1.4.4)\n",
      "Requirement already satisfied: fonttools>=4.22.0 in /home/studio-lab-user/.conda/envs/default/lib/python3.9/site-packages (from matplotlib->-r requirements.txt (line 3)) (4.36.0)\n",
      "Requirement already satisfied: scikit-learn in /home/studio-lab-user/.conda/envs/default/lib/python3.9/site-packages (from shap->-r requirements.txt (line 4)) (1.1.2)\n",
      "Requirement already satisfied: numba in /home/studio-lab-user/.conda/envs/default/lib/python3.9/site-packages (from shap->-r requirements.txt (line 4)) (0.56.0)\n",
      "Requirement already satisfied: cloudpickle in /home/studio-lab-user/.conda/envs/default/lib/python3.9/site-packages (from shap->-r requirements.txt (line 4)) (2.1.0)\n",
      "Requirement already satisfied: slicer==0.0.7 in /home/studio-lab-user/.conda/envs/default/lib/python3.9/site-packages (from shap->-r requirements.txt (line 4)) (0.0.7)\n",
      "Requirement already satisfied: scipy in /home/studio-lab-user/.conda/envs/default/lib/python3.9/site-packages (from shap->-r requirements.txt (line 4)) (1.9.0)\n",
      "Requirement already satisfied: tqdm>4.25.0 in /home/studio-lab-user/.conda/envs/default/lib/python3.9/site-packages (from shap->-r requirements.txt (line 4)) (4.64.0)\n",
      "Requirement already satisfied: py-cpuinfo in /home/studio-lab-user/.conda/envs/default/lib/python3.9/site-packages (from codecarbon->-r requirements.txt (line 5)) (8.0.0)\n",
      "Requirement already satisfied: fuzzywuzzy in /home/studio-lab-user/.conda/envs/default/lib/python3.9/site-packages (from codecarbon->-r requirements.txt (line 5)) (0.18.0)\n",
      "Requirement already satisfied: arrow in /home/studio-lab-user/.conda/envs/default/lib/python3.9/site-packages (from codecarbon->-r requirements.txt (line 5)) (1.2.2)\n",
      "Requirement already satisfied: click in /home/studio-lab-user/.conda/envs/default/lib/python3.9/site-packages (from codecarbon->-r requirements.txt (line 5)) (8.1.3)\n",
      "Requirement already satisfied: requests in /home/studio-lab-user/.conda/envs/default/lib/python3.9/site-packages (from codecarbon->-r requirements.txt (line 5)) (2.28.1)\n",
      "Requirement already satisfied: pynvml in /home/studio-lab-user/.conda/envs/default/lib/python3.9/site-packages (from codecarbon->-r requirements.txt (line 5)) (11.4.1)\n",
      "Requirement already satisfied: psutil in /home/studio-lab-user/.conda/envs/default/lib/python3.9/site-packages (from codecarbon->-r requirements.txt (line 5)) (5.9.1)\n",
      "Requirement already satisfied: torch>=1.8 in /home/studio-lab-user/.conda/envs/default/lib/python3.9/site-packages (from opacus->-r requirements.txt (line 6)) (1.12.1)\n",
      "Requirement already satisfied: opt-einsum>=3.3.0 in /home/studio-lab-user/.conda/envs/default/lib/python3.9/site-packages (from opacus->-r requirements.txt (line 6)) (3.3.0)\n",
      "Collecting dcor>=0.5.3\n",
      "  Downloading dcor-0.5.6-py3-none-any.whl (41 kB)\n",
      "\u001b[K     |████████████████████████████████| 41 kB 1.3 MB/s eta 0:00:011\n",
      "\u001b[?25hCollecting pyemd==0.5.1\n",
      "  Downloading pyemd-0.5.1.tar.gz (91 kB)\n",
      "\u001b[K     |████████████████████████████████| 91 kB 7.0 MB/s eta 0:00:011\n",
      "\u001b[?25hCollecting seaborn>=0.11.1\n",
      "  Downloading seaborn-0.11.2-py3-none-any.whl (292 kB)\n",
      "\u001b[K     |████████████████████████████████| 292 kB 45.2 MB/s eta 0:00:01\n",
      "\u001b[?25hRequirement already satisfied: joblib in /home/studio-lab-user/.conda/envs/default/lib/python3.9/site-packages (from dcor>=0.5.3->fairlens->-r requirements.txt (line 8)) (1.1.0)\n",
      "Requirement already satisfied: llvmlite<0.40,>=0.39.0dev0 in /home/studio-lab-user/.conda/envs/default/lib/python3.9/site-packages (from numba->shap->-r requirements.txt (line 4)) (0.39.0)\n",
      "Requirement already satisfied: setuptools in /home/studio-lab-user/.conda/envs/default/lib/python3.9/site-packages (from numba->shap->-r requirements.txt (line 4)) (62.0.0)\n",
      "Requirement already satisfied: six>=1.5 in /home/studio-lab-user/.conda/envs/default/lib/python3.9/site-packages (from python-dateutil>=2.8.1->pandas->-r requirements.txt (line 2)) (1.16.0)\n",
      "Requirement already satisfied: threadpoolctl>=2.0.0 in /home/studio-lab-user/.conda/envs/default/lib/python3.9/site-packages (from scikit-learn->shap->-r requirements.txt (line 4)) (3.1.0)\n",
      "Requirement already satisfied: typing-extensions in /home/studio-lab-user/.conda/envs/default/lib/python3.9/site-packages (from torch>=1.8->opacus->-r requirements.txt (line 6)) (4.3.0)\n",
      "Requirement already satisfied: idna<4,>=2.5 in /home/studio-lab-user/.conda/envs/default/lib/python3.9/site-packages (from requests->codecarbon->-r requirements.txt (line 5)) (3.3)\n",
      "Requirement already satisfied: certifi>=2017.4.17 in /home/studio-lab-user/.conda/envs/default/lib/python3.9/site-packages (from requests->codecarbon->-r requirements.txt (line 5)) (2022.6.15)\n",
      "Requirement already satisfied: charset-normalizer<3,>=2 in /home/studio-lab-user/.conda/envs/default/lib/python3.9/site-packages (from requests->codecarbon->-r requirements.txt (line 5)) (2.1.0)\n",
      "Requirement already satisfied: urllib3<1.27,>=1.21.1 in /home/studio-lab-user/.conda/envs/default/lib/python3.9/site-packages (from requests->codecarbon->-r requirements.txt (line 5)) (1.26.11)\n",
      "Building wheels for collected packages: pyemd\n",
      "  Building wheel for pyemd (setup.py) ... \u001b[?25ldone\n",
      "\u001b[?25h  Created wheel for pyemd: filename=pyemd-0.5.1-cp39-cp39-linux_x86_64.whl size=77808 sha256=26235a4e8c34e5b5307052a611cae98f942ae0bd68c5b2802f13fe6e2474c6d3\n",
      "  Stored in directory: /home/studio-lab-user/.cache/pip/wheels/64/bf/3e/0859be9a0108fc932a29b943792dcafb3b979555cf1bb5add6\n",
      "Successfully built pyemd\n",
      "Installing collected packages: seaborn, pyemd, dcor, fairlens\n",
      "Successfully installed dcor-0.5.6 fairlens-0.1.0 pyemd-0.5.1 seaborn-0.11.2\n"
     ]
    }
   ],
   "source": [
    "!pip install -r requirements.txt"
   ]
  }
 ],
 "metadata": {
  "kernelspec": {
   "display_name": "default:Python",
   "language": "python",
   "name": "conda-env-default-py"
  },
  "language_info": {
   "codemirror_mode": {
    "name": "ipython",
    "version": 3
   },
   "file_extension": ".py",
   "mimetype": "text/x-python",
   "name": "python",
   "nbconvert_exporter": "python",
   "pygments_lexer": "ipython3",
   "version": "3.9.12"
  }
 },
 "nbformat": 4,
 "nbformat_minor": 5
}
